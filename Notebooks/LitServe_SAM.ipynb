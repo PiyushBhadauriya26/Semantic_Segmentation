{
 "cells": [
  {
   "cell_type": "code",
   "execution_count": 3,
   "id": "c8c24c54-3100-4af0-95d4-d8704b7095c0",
   "metadata": {},
   "outputs": [],
   "source": [
    "# import torch, torchvision, PIL, io, base64\n",
    "# import litserve as ls\n",
    "\n",
    "# class ImageClassifierAPI(ls.LitAPI):\n",
    "#     def setup(self, device):\n",
    "#         weights = torchvision.models.ResNet152_Weights.DEFAULT\n",
    "#         self.image_processing = weights.transforms()\n",
    "#         self.model = torchvision.models.resnet152(weights=weights).eval().to(device)\n",
    "\n",
    "#     def decode_request(self, request):\n",
    "#         image_data = request[\"image_data\"]\n",
    "#         image = base64.b64decode(image_data)\n",
    "#         pil_image = PIL.Image.open(io.BytesIO(image)).convert(\"RGB\")\n",
    "#         processed_image = self.image_processing(pil_image)\n",
    "#         return processed_image.unsqueeze(0).to(self.device)\n",
    "\n",
    "#     def predict(self, x):\n",
    "#         with torch.inference_mode():\n",
    "#             outputs = self.model(x)\n",
    "#             _, predictions = torch.max(outputs, 1)\n",
    "#             prediction = predictions.tolist()\n",
    "#         return prediction[0]\n",
    "\n",
    "#     def encode_response(self, output):\n",
    "#         return {\"output\": output}\n",
    "\n",
    "# if __name__ == \"__main__\":\n",
    "#     api = ImageClassifierAPI()\n",
    "#     server = ls.LitServer(api, accelerator=\"gpu\")\n",
    "#     server.run(port=8000)"
   ]
  },
  {
   "cell_type": "code",
   "execution_count": null,
   "id": "9a29ac4f-ee5e-41eb-a9a0-06b372c60962",
   "metadata": {},
   "outputs": [],
   "source": []
  }
 ],
 "metadata": {
  "kernelspec": {
   "display_name": "semantic_segmentation",
   "language": "python",
   "name": "semantic_segmentation"
  },
  "language_info": {
   "codemirror_mode": {
    "name": "ipython",
    "version": 3
   },
   "file_extension": ".py",
   "mimetype": "text/x-python",
   "name": "python",
   "nbconvert_exporter": "python",
   "pygments_lexer": "ipython3",
   "version": "3.12.10"
  }
 },
 "nbformat": 4,
 "nbformat_minor": 5
}
