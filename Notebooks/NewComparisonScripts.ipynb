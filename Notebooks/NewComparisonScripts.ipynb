{
 "cells": [
  {
   "cell_type": "code",
   "execution_count": 1,
   "metadata": {
    "id": "6B0-lXG5tHOa"
   },
   "outputs": [
    {
     "ename": "ModuleNotFoundError",
     "evalue": "No module named 'scipy'",
     "output_type": "error",
     "traceback": [
      "\u001b[31m---------------------------------------------------------------------------\u001b[39m",
      "\u001b[31mModuleNotFoundError\u001b[39m                       Traceback (most recent call last)",
      "\u001b[36mCell\u001b[39m\u001b[36m \u001b[39m\u001b[32mIn[1]\u001b[39m\u001b[32m, line 2\u001b[39m\n\u001b[32m      1\u001b[39m \u001b[38;5;28;01mimport\u001b[39;00m\u001b[38;5;250m \u001b[39m\u001b[34;01mnumpy\u001b[39;00m\u001b[38;5;250m \u001b[39m\u001b[38;5;28;01mas\u001b[39;00m\u001b[38;5;250m \u001b[39m\u001b[34;01mnp\u001b[39;00m\n\u001b[32m----> \u001b[39m\u001b[32m2\u001b[39m \u001b[38;5;28;01mfrom\u001b[39;00m\u001b[38;5;250m \u001b[39m\u001b[34;01mscipy\u001b[39;00m\u001b[34;01m.\u001b[39;00m\u001b[34;01mspatial\u001b[39;00m\u001b[34;01m.\u001b[39;00m\u001b[34;01mdistance\u001b[39;00m\u001b[38;5;250m \u001b[39m\u001b[38;5;28;01mimport\u001b[39;00m directed_hausdorff\n\u001b[32m      4\u001b[39m \u001b[38;5;28;01mdef\u001b[39;00m\u001b[38;5;250m \u001b[39m\u001b[34mdice_coef\u001b[39m(groundtruth_mask, pred_mask):\n\u001b[32m      5\u001b[39m     groundtruth_mask = groundtruth_mask.squeeze().numpy()\n",
      "\u001b[31mModuleNotFoundError\u001b[39m: No module named 'scipy'"
     ]
    }
   ],
   "source": [
    "import numpy as np\n",
    "from scipy.spatial.distance import directed_hausdorff\n",
    "\n",
    "def dice_coef(groundtruth_mask, pred_mask):\n",
    "    groundtruth_mask = groundtruth_mask.squeeze().numpy()\n",
    "    pred_mask = pred_mask.squeeze().numpy()\n",
    "    intersect = np.sum(pred_mask * groundtruth_mask)\n",
    "    total_sum = np.sum(pred_mask) + np.sum(groundtruth_mask)\n",
    "    dice = 2 * intersect / (total_sum + 1e-6)\n",
    "    return round(dice, 3)\n",
    "\n",
    "def iou_coef(groundtruth_mask, pred_mask):\n",
    "    groundtruth_mask = groundtruth_mask.squeeze().numpy()\n",
    "    pred_mask = pred_mask.squeeze().numpy()\n",
    "    intersection = np.sum(pred_mask * groundtruth_mask)\n",
    "    union = np.sum(pred_mask) + np.sum(groundtruth_mask) - intersection\n",
    "    iou = intersection / (union + 1e-6)\n",
    "    return round(iou, 3)\n",
    "\n",
    "def pixel_accuracy(groundtruth_mask, pred_mask):\n",
    "    groundtruth_mask = groundtruth_mask.squeeze().numpy()\n",
    "    pred_mask = pred_mask.squeeze().numpy()\n",
    "    acc = np.sum(groundtruth_mask == pred_mask) / groundtruth_mask.size\n",
    "    return round(acc, 3)\n",
    "\n",
    "def sensitivity_score(groundtruth_mask, pred_mask):\n",
    "    groundtruth_mask = groundtruth_mask.squeeze().numpy()\n",
    "    pred_mask = pred_mask.squeeze().numpy()\n",
    "    tp = np.sum((groundtruth_mask == 1) & (pred_mask == 1))\n",
    "    fn = np.sum((groundtruth_mask == 1) & (pred_mask == 0))\n",
    "    sens = tp / (tp + fn + 1e-6)\n",
    "    return round(sens, 3)\n",
    "\n",
    "def specificity_score(groundtruth_mask, pred_mask):\n",
    "    groundtruth_mask = groundtruth_mask.squeeze().numpy()\n",
    "    pred_mask = pred_mask.squeeze().numpy()\n",
    "    tn = np.sum((groundtruth_mask == 0) & (pred_mask == 0))\n",
    "    fp = np.sum((groundtruth_mask == 0) & (pred_mask == 1))\n",
    "    spec = tn / (tn + fp + 1e-6)\n",
    "    return round(spec, 3)\n",
    "\n",
    "def precision_score(groundtruth_mask, pred_mask):\n",
    "    groundtruth_mask = groundtruth_mask.squeeze().numpy()\n",
    "    pred_mask = pred_mask.squeeze().numpy()\n",
    "    tp = np.sum((groundtruth_mask == 1) & (pred_mask == 1))\n",
    "    fp = np.sum((groundtruth_mask == 0) & (pred_mask == 1))\n",
    "    prec = tp / (tp + fp + 1e-6)\n",
    "    return round(prec, 3)\n",
    "\n",
    "def hausdorff_distance(groundtruth_mask, pred_mask):\n",
    "    groundtruth_mask = groundtruth_mask.squeeze().numpy().astype(bool)\n",
    "    pred_mask = pred_mask.squeeze().numpy().astype(bool)\n",
    "\n",
    "    gt_coords = np.argwhere(groundtruth_mask)\n",
    "    pred_coords = np.argwhere(pred_mask)\n",
    "\n",
    "    if gt_coords.size == 0 or pred_coords.size == 0:\n",
    "        return np.inf  # Cannot compute HD if one mask is empty\n",
    "\n",
    "    hd1 = directed_hausdorff(gt_coords, pred_coords)[0]\n",
    "    hd2 = directed_hausdorff(pred_coords, gt_coords)[0]\n",
    "    hd = max(hd1, hd2)\n",
    "\n",
    "    return round(hd, 3)\n"
   ]
  },
  {
   "cell_type": "code",
   "execution_count": null,
   "metadata": {},
   "outputs": [],
   "source": []
  }
 ],
 "metadata": {
  "colab": {
   "provenance": []
  },
  "kernelspec": {
   "display_name": "Python 3 (ipykernel)",
   "language": "python",
   "name": "python3"
  },
  "language_info": {
   "codemirror_mode": {
    "name": "ipython",
    "version": 3
   },
   "file_extension": ".py",
   "mimetype": "text/x-python",
   "name": "python",
   "nbconvert_exporter": "python",
   "pygments_lexer": "ipython3",
   "version": "3.12.10"
  }
 },
 "nbformat": 4,
 "nbformat_minor": 4
}
