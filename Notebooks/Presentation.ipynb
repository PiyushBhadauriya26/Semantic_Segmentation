{
 "cells": [
  {
   "cell_type": "markdown",
   "id": "98ae7bbe-f9e0-4eec-bd19-4890fa7dbd5f",
   "metadata": {},
   "source": [
    "## Introduction to SAM\n",
    "<div>\n",
    "<img src=\"../assets/gtMsk.png\" width=\"300\"/>\n",
    "<img src=\"../assets/samAutoMsk.png\" width=\"300\"/>\n",
    "<img src=\"../assets/samPointPrompt.png\" width=\"300\"/>\n",
    "<img src=\"../assets/samBoxPrompt1.png\" width=\"300\"/>\n",
    "<div class=\"top-left\">Sample 1 with ground truth Mask, Segmentation With SAM Auto mask generator, Out put from the server using SAM with Point and BOX prompts </div>\n",
    "</div>\n",
    "\n",
    "\n",
    "**<summary>What is the Segment Anything Model (SAM)?</summary>**\n",
    "The Segment Anything Model (SAM) is a segmentation model developed by Meta AI. It is considered the first foundational model for Computer Vision. SAM was trained on a huge corpus of data containing millions of images and billions of masks, making it extremely powerful. As its name suggests, SAM is able to produce accurate segmentation masks for a wide variety of images. SAM’s design allows it to take human prompts into account, making it particularly powerful for Human In The Loop annotation. These prompts can be multi-modal: they can be points on the area to be segmented, a bounding box around the object to be segmented or a text prompt about what should be segmented.\n",
    "\n",
    "## Fine tuning SAM\n",
    "**<summary>Fine tuning SAM with Low-Rank Adaptation (LoRA)?</summary>**\n",
    "LoRA is an adapter that is using 2 matrices B and A. The 2 matrices have specific dimensions (input_size, r) and (r, input_size) . By specifying a rank r < input_size, we reduce the parameters size and try to capture the task with a small enough rank. The matrix product B*A gives a matrix of shape (input_size, input_size) so no information is lost but the model will have learned a new representation through training.\n",
    "\n",
    "For any application, we only need to initialize the matrices, freeze SAM and train the adapter so that the frozen model + LoRA learns to segment anythings that you need.\n"
   ]
  },
  {
   "cell_type": "code",
   "execution_count": 1,
   "id": "fbfaea61-2992-4716-9de4-13af918b183b",
   "metadata": {},
   "outputs": [
    {
     "data": {
      "text/plain": [
       "ModuleList(\n",
       "  (0-11): 12 x Block(\n",
       "    (norm1): LayerNorm((768,), eps=1e-06, elementwise_affine=True)\n",
       "    (attn): Attention(\n",
       "      (qkv): Linear(in_features=768, out_features=2304, bias=True)\n",
       "      (proj): Linear(in_features=768, out_features=768, bias=True)\n",
       "    )\n",
       "    (norm2): LayerNorm((768,), eps=1e-06, elementwise_affine=True)\n",
       "    (mlp): MLPBlock(\n",
       "      (lin1): Linear(in_features=768, out_features=3072, bias=True)\n",
       "      (lin2): Linear(in_features=3072, out_features=768, bias=True)\n",
       "      (act): GELU(approximate='none')\n",
       "    )\n",
       "  )\n",
       ")"
      ]
     },
     "execution_count": 1,
     "metadata": {},
     "output_type": "execute_result"
    }
   ],
   "source": [
    "# Add loRA adapter to image_encode block \n",
    "from segment_anything import sam_model_registry\n",
    "sam = sam_model_registry[\"vit_b\"]()\n",
    "sam.image_encoder.blocks"
   ]
  },
  {
   "cell_type": "markdown",
   "id": "139ca94f-18d6-42a5-80a3-c1148c84a32c",
   "metadata": {},
   "source": [
    "```\n",
    "w_qkv_linear = blk.attn.qkv\n",
    "self.d_model = w_qkv_linear.in_features\n",
    "\n",
    "w_a_linear_q = nn.Linear(self.d_model, self.rank, bias=False)\n",
    "w_b_linear_q = nn.Linear(self.rank, self.d_model, bias=False)\n",
    "w_a_linear_v = nn.Linear(self.d_model, self.rank, bias=False)\n",
    "w_b_linear_v = nn.Linear(self.rank, self.d_model, bias=False)\n",
    "\n",
    "\n",
    "self.A_weights.append(w_a_linear_q)\n",
    "self.B_weights.append(w_b_linear_q)\n",
    "self.A_weights.append(w_a_linear_v)\n",
    "self.B_weights.append(w_b_linear_v)\n",
    "\n",
    "blk.attn.qkv = LoRA_qkv(\n",
    "    w_qkv_linear,\n",
    "    w_a_linear_q,\n",
    "    w_b_linear_q,\n",
    "    w_a_linear_v,\n",
    "    w_b_linear_v\n",
    ")\n",
    "```"
   ]
  },
  {
   "cell_type": "markdown",
   "id": "17d2a1d8-24b5-4ea1-aba6-5f3b73824b6d",
   "metadata": {},
   "source": [
    "config.yaml\n",
    "```\n",
    "DATASET:\n",
    "  TRAIN_PATH: \"./data/BCSS_small/train\"\n",
    "  TEST_PATH: \"./data/BCSS_small/test\"\n",
    "  IMAGE_FORMAT: \".png\"\n",
    "\n",
    "SAM:\n",
    "  CHECKPOINT: \"./model_checkpoint/sam_vit_b_01ec64.pth\"\n",
    "  RANK: 512\n",
    "\n",
    "TRAIN:\n",
    "  BATCH_SIZE: 2\n",
    "  NUM_EPOCHS: 50\n",
    "  LEARNING_RATE: 0.0001\n",
    "```\n",
    "`python train.py` # Start training."
   ]
  },
  {
   "cell_type": "markdown",
   "id": "9ae7c544-ba1e-47aa-8012-f1c5cc60e158",
   "metadata": {},
   "source": [
    "## Demo\n",
    "\n",
    "Start the server  \n",
    "`python LitServe_SAM.py`  \n",
    "server: http://localhost:8000/docs    \n",
    "\n",
    "`python client.py --image data/test.png --p1 \"(120,70)\" --p2 \"(170,120)\" --alpha 0.5 --model \"sam-vit_l\"`  \n",
    "`python client.py --image data/test.png --p1 \"(50,40)\" --p2 \"(200,200)\" --alpha 0.5 --model \"sam-vit_l\"`\n",
    "\n",
    "`python client.py --image data/test.png --p1 \"(50,40)\" --p2 \"200,200\" --alpha 0.5 --model \"med_sam-vit_b\"`  \n",
    "`python client.py --image data/test.png --p1 \"(50,40)\" --p2 \"200,200\" --alpha 0.5 --model \"sam-vit_b-lora512\"`  \n",
    "  \n",
    "`python client.py --image data/test.png --p1 \"(145,110)\" --alpha 0.5 --model sam-vit_b-lora512`  \n",
    "`python client.py --image data/test.png --p1 \"(145,110)\" --alpha 0.5 --model med_sam-vit_b`  \n",
    "`python client.py --image data/test.png --p1 \"(145,110)\" --alpha 0.5 --model sam-vit_l`  \n",
    "\n",
    "`python client.py --image data/test.png --alpha 0.5 --model sam-vit_l`  \n",
    "`python client.py --image data/test.png --alpha 0.5 --model sam-vit_h`  \n",
    "`python client.py --image data/test.png --alpha 0.5 --model med_sam-vit_b`  \n",
    "`python client.py --image data/test.png --alpha 0.5 --model sam-vit_b-lora512`  "
   ]
  },
  {
   "cell_type": "markdown",
   "id": "e3317300-b5c3-438f-8297-939c74c35067",
   "metadata": {},
   "source": [
    "<div>\n",
    "<div class=\"top-left\">Different Bounding box input for model sam-vit_l</div>\n",
    "<img src=\"../data/server/predict_out/output-2025-05-14_16-54-01.png\" width=\"300\" />\n",
    "<img src=\"../data/server/predict_out/output-2025-05-14_16-55-49.png\" width=\"300\"/>\n",
    "</div>\n",
    "<div>\n",
    "<div class=\"top-left\">Bounding box input for models med_sam-vit_b and sam-vit_b-lora512</div>\n",
    "<img src=\"../data/server/predict_out/output-2025-05-14_16-58-11.png\" width=\"300\" />\n",
    "<img src=\"../data/server/predict_out/output-2025-05-14_16-59-05.png\" width=\"300\"/>\n",
    "</div>\n",
    "\n",
    "<div>\n",
    "<div class=\"top-left\">Point input for models sam-vit_l, med_sam-vit_b and sam-vit_b-lora512</div>\n",
    "<img src=\"../data/server/predict_out/output-2025-05-14_17-12-07.png\" width=\"300\" />\n",
    "<img src=\"../data/server/predict_out/output-2025-05-14_17-13-40.png\" width=\"300\"/>\n",
    "<img src=\"../data/server/predict_out/output-2025-05-14_17-08-42.png\" width=\"300\"/>\n",
    "</div>\n",
    "\n",
    "<div>\n",
    "<div class=\"top-left\">Whole image segmentation using models sam-vit_l, sam-vit_h, med_sam-vit_b and sam-vit_b-lora512</div>\n",
    "<img src=\"../data/server/predict_out/output-2025-05-14_17-17-19.png\" width=\"300\" />\n",
    "<img src=\"../data/server/predict_out/output-2025-05-14_17-17-59.png\" width=\"300\"/>\n",
    "<img src=\"../data/server/predict_out/output-2025-05-14_17-16-48.png\" width=\"300\"/>\n",
    "<img src=\"../data/server/predict_out/output-2025-05-14_17-18-44.png\" width=\"300\"/>\n",
    "</div>\n",
    "\n",
    "<div>\n",
    "<div class=\"top-left\">Whole image segmentation using models sam-vit_l, sam-vit_h, med_sam-vit_b and sam-vit_b-lora512</div>\n",
    "<img src=\"../data/server/predict_out/output-2025-05-14_17-32-20.png\" width=\"300\" />\n",
    "<img src=\"../data/server/predict_out/output-2025-05-14_17-33-27.png\" width=\"300\"/>\n",
    "<img src=\"../data/server/predict_out/output-2025-05-14_17-38-55.png\" width=\"300\"/>\n",
    "<img src=\"../data/server/predict_out/output-2025-05-14_17-39-56.png\" width=\"300\"/>\n",
    "</div>"
   ]
  },
  {
   "cell_type": "markdown",
   "id": "8455ef19-aef2-4ea8-90b5-08e0817b2563",
   "metadata": {},
   "source": [
    "## Data PreProcessing \n",
    "BCSS dataset masks_orig has 22 different classes of cells \n",
    "```\n",
    "outside_roi             0\n",
    "tumor\t                1\n",
    "stroma\t                2\n",
    "lymphocytic_infiltrate  3\n",
    "necrosis_or_debris      4\n",
    "glandular_secretions    5\n",
    "blood                   6\n",
    "exclude                 7\n",
    "metaplasia_NOS          8\n",
    "fat                     9\n",
    "plasma_cells            10\n",
    "other_immune_infiltrate\t11\n",
    "mucoid_material\t        12\n",
    "normal_acinus_or_duct\t13\n",
    "lymphatics              14\n",
    "undetermined\t        15\n",
    "nerve\t                16\n",
    "skin_adnexa             17\n",
    "blood_vessel\t        18\n",
    "angioinvasion\t        19\n",
    "dcis\t                20\n",
    "other\t                21\n",
    "```\n",
    "Convert it to 2 classes\n",
    "```\n",
    "no tumor                0\n",
    "tumor                   1\n",
    "```"
   ]
  },
  {
   "cell_type": "code",
   "execution_count": 2,
   "id": "d97776a8-ae4a-4156-a61b-92cc39c321dc",
   "metadata": {},
   "outputs": [],
   "source": [
    "from torchvision import transforms\n",
    "from PIL import Image\n",
    "import os\n",
    "import torch\n",
    "\n",
    "in_folder = \"../data/BCSS_small/train/masks_orig/\"\n",
    "out_folder = \"../data/BCSS_small/train/masks/\"\n",
    "overwrite = False\n",
    "\n",
    "_mask_transformer = transforms.Compose([\n",
    "    transforms.PILToTensor()\n",
    "])\n",
    "_image_transformer = transforms.Compose([\n",
    "    transforms.ToPILImage()\n",
    "])\n",
    "\n",
    "def process_and_save_mask(image_file):\n",
    "    mask = Image.open(os.path.join(in_folder,image_file))\n",
    "    mask_tensor = _mask_transformer(mask)\n",
    "    mask_tensor = (mask_tensor == 1).to(torch.uint8) # convert to 0/1 mask\n",
    "    mask_image = _image_transformer(mask_tensor)\n",
    "    os.makedirs(out_folder, exist_ok=True)\n",
    "    mask_image.save(os.path.join(out_folder, image_file))\n",
    "\n",
    "in_masks = [file for file in os.listdir(in_folder) if file.endswith('.png')]\n",
    "for image_file in in_masks:\n",
    "    if os.path.isfile(os.path.join(out_folder, image_file)) and not overwrite:\n",
    "        continue\n",
    "    process_and_save_mask(image_file)"
   ]
  },
  {
   "cell_type": "markdown",
   "id": "296255f3-b233-4ead-9769-559f1016e8a4",
   "metadata": {},
   "source": [
    "#### Original Mask"
   ]
  },
  {
   "cell_type": "code",
   "execution_count": 3,
   "id": "a54e8e33-1ff6-4da6-ad24-242b68095c07",
   "metadata": {},
   "outputs": [
    {
     "name": "stdout",
     "output_type": "stream",
     "text": [
      "(tensor([1, 2], dtype=torch.uint8), tensor([31460, 18716]))\n"
     ]
    },
    {
     "data": {
      "text/plain": [
       "tensor([[[2, 2, 2,  ..., 2, 2, 2],\n",
       "         [2, 2, 2,  ..., 1, 1, 1],\n",
       "         [2, 2, 2,  ..., 1, 1, 1],\n",
       "         ...,\n",
       "         [2, 2, 2,  ..., 2, 2, 2],\n",
       "         [2, 2, 2,  ..., 2, 2, 2],\n",
       "         [2, 2, 2,  ..., 2, 2, 2]]], dtype=torch.uint8)"
      ]
     },
     "execution_count": 3,
     "metadata": {},
     "output_type": "execute_result"
    }
   ],
   "source": [
    "mask = Image.open(os.path.join(in_folder,in_masks[0]))\n",
    "mask_tensor = _mask_transformer(mask)\n",
    "print(mask_tensor.unique(return_counts=True))\n",
    "mask_tensor"
   ]
  },
  {
   "cell_type": "markdown",
   "id": "4dfc1cff-25e3-4d1f-94de-bfba11a8558c",
   "metadata": {},
   "source": [
    "#### Processed Mask"
   ]
  },
  {
   "cell_type": "code",
   "execution_count": 4,
   "id": "5edd62c8-c0a0-4e38-b505-9bfbf1f9e67e",
   "metadata": {},
   "outputs": [
    {
     "name": "stdout",
     "output_type": "stream",
     "text": [
      "(tensor([0, 1], dtype=torch.uint8), tensor([18716, 31460]))\n"
     ]
    },
    {
     "data": {
      "text/plain": [
       "tensor([[[0, 0, 0,  ..., 0, 0, 0],\n",
       "         [0, 0, 0,  ..., 1, 1, 1],\n",
       "         [0, 0, 0,  ..., 1, 1, 1],\n",
       "         ...,\n",
       "         [0, 0, 0,  ..., 0, 0, 0],\n",
       "         [0, 0, 0,  ..., 0, 0, 0],\n",
       "         [0, 0, 0,  ..., 0, 0, 0]]], dtype=torch.uint8)"
      ]
     },
     "execution_count": 4,
     "metadata": {},
     "output_type": "execute_result"
    }
   ],
   "source": [
    "mask = Image.open(os.path.join(out_folder,in_masks[0]))\n",
    "mask_tensor = _mask_transformer(mask)\n",
    "print(mask_tensor.unique(return_counts=True))\n",
    "mask_tensor"
   ]
  },
  {
   "cell_type": "markdown",
   "id": "edc346ef-8e0e-45e0-b503-ca6fab82aa6b",
   "metadata": {},
   "source": [
    "## Code Repo and Setup\n",
    "https://github.com/PiyushBhadauriya26/Semantic_Segmentation"
   ]
  },
  {
   "cell_type": "code",
   "execution_count": 5,
   "id": "2ec6d252-b1cb-4f37-9c5d-39a25c893f08",
   "metadata": {},
   "outputs": [
    {
     "data": {
      "text/markdown": [
       "#### Setup\n",
       "- Use Python 3.12\n",
       "- Use virtual env\n",
       "- Install pytorch https://pytorch.org/get-started/locally/#windows-python\n",
       "- Use requirements.txt to install the required python libs\n",
       "\n",
       "#### Server\n",
       "- Start the server `python LitServe_SAM.py`\n",
       "- Health check `http://localhost:8000/health`\n",
       "\n",
       "#### Client \n",
       "Use client code to call /predict API when the server is up.\n",
       "\n",
       "```\n",
       "usage: client.py [-h] --image IMAGE [--p1 P1] [--p2 P2] [--model MODEL] [--alpha ALPHA]\n",
       "\n",
       "Send text & image to server and receive a response.\n",
       "\n",
       "optional arguments:  \n",
       "  -h, --help     show this help message and exit  \n",
       "  --image IMAGE  Path or URL for the image file..  \n",
       "  --p1 P1        Single Point input in '(x,y)' format.\n",
       "  --p2 P2        Point2 '(x1,y1)' for box input.\n",
       "  --model MODEL  Name of the model [sam-vit_l, sam-vit_h, med_sam-vit_b, sam-vit_b-lora512]\n",
       "  --alpha ALPHA  Transparency mask between 0-1.\n",
       "```\n",
       "response contains segmented image with identified region with no mask and green mask for background region.\n",
       "###### Example\n",
       "- `python client.py --image data/test.png --p1 \"(120,70)\" --p2 \"170,120\" --alpha 0.5 --model \"sam-vit_l\" `# Provide box input with Region of interest.\n",
       "- `python client.py --image data/test.png --alpha 0.5 --model \"med_sam-vit_b\"` # Use med_sam-vit_b model to segment whole image  \n",
       "- `python client.py --image data/test.png --p1 \"(145,110)\" --alpha 0.5 --model sam-vit_b-lora512` # use Point input with FineTuned sam-vit_b-lora512 model \n",
       "\n",
       "#### Batch Inference \n",
       "Use `batch_inference.py` script to run inference on multiple images\n",
       "```\n",
       "usage: batch_inference.py [-h] [-i DATA_PATH] [-o SEG_PATH] [--device DEVICE] [--overwrite OVERWRITE] [--model MODEL]\n",
       "\n",
       "run inference on testing set based on MedSAM\n",
       "\n",
       "options:\n",
       "  -h, --help                               show this help message and exit\n",
       "  -i DATA_PATH, --data_path DATA_PATH      path to the image folder\n",
       "  -o SEG_PATH, --seg_path SEG_PATH         path to the segmentation folder. default=data/Results \n",
       "  --device DEVICE                          Device cuda or cpu\n",
       "  --overwrite OVERWRITE                    Overwrite existing results with a new mask.\n",
       "  --model MODEL                            Name of the model [sam-vit_l, sam-vit_h, med_sam-vit_b, sam-vit_b-lora512]\n",
       "\n",
       "```\n",
       "###### Example\n",
       "- `python .\\batch_inference.py -i \"data/BCSS_small/test/images\" --overwrite True` # Run inference and save predicted masks in data/Results folder\n",
       "\n",
       "#### Train\n",
       "- Source: https://github.com/WangRongsheng/SAM-fine-tune\n",
       "- Update `config.yaml` for DATASET paths, CHECKPOINT for base sam model and TRAIN setting\n",
       "- `python train.py` # Start training.\n",
       "- After training lora weights are saved as safetensors file in model_checkpoint folder\n",
       "\n",
       "#### References\n",
       "1. https://github.com/facebookresearch/segment-anything\n",
       "2. https://github.com/facebookresearch/sam2\n",
       "3. https://github.com/bowang-lab/MedSAM\n",
       "4. https://github.com/mazurowski-lab/finetune-SAM\n",
       "5. https://github.com/WangRongsheng/SAM-fine-tune\n",
       "6. https://github.com/Lightning-AI/LitServe\n"
      ],
      "text/plain": [
       "<IPython.core.display.Markdown object>"
      ]
     },
     "metadata": {},
     "output_type": "display_data"
    }
   ],
   "source": [
    "from IPython.display import Markdown, display\n",
    "display(Markdown(\"../README.md\"))"
   ]
  },
  {
   "cell_type": "markdown",
   "id": "12c886f2-f406-4ef1-9b48-59d5216031bf",
   "metadata": {},
   "source": [
    "## Benchmark & Comparison"
   ]
  },
  {
   "cell_type": "markdown",
   "id": "adb1f497-d16e-4574-91dc-f2fb58e88122",
   "metadata": {},
   "source": [
    " **SAM Large Model:** sam-vit_l  \n",
    " **SAM Huge Model:** med_sam-vit_h  \n",
    " **MedSAM Base Model:** med_sam-vit_b  \n",
    " **FineTuned SAM Base Model:** sam-vit_b-lora512"
   ]
  },
  {
   "cell_type": "code",
   "execution_count": 6,
   "id": "132ebc33-5c30-4501-90db-3063d34bfd19",
   "metadata": {},
   "outputs": [],
   "source": [
    "import numpy as np\n",
    "from scipy.spatial.distance import directed_hausdorff\n",
    "\n",
    "def dice_coef(groundtruth_mask, pred_mask):\n",
    "    groundtruth_mask = groundtruth_mask.squeeze().numpy()\n",
    "    pred_mask = pred_mask.squeeze().numpy()\n",
    "    intersect = np.sum(pred_mask * groundtruth_mask)\n",
    "    total_sum = np.sum(pred_mask) + np.sum(groundtruth_mask)\n",
    "    dice = 2 * intersect / (total_sum + 1e-6)\n",
    "    return round(dice, 3)\n",
    "\n",
    "def iou_coef(groundtruth_mask, pred_mask):\n",
    "    groundtruth_mask = groundtruth_mask.squeeze().numpy()\n",
    "    pred_mask = pred_mask.squeeze().numpy()\n",
    "    intersection = np.sum(pred_mask * groundtruth_mask)\n",
    "    union = np.sum(pred_mask) + np.sum(groundtruth_mask) - intersection\n",
    "    iou = intersection / (union + 1e-6)\n",
    "    return round(iou, 3)\n",
    "\n",
    "def pixel_accuracy(groundtruth_mask, pred_mask):\n",
    "    groundtruth_mask = groundtruth_mask.squeeze().numpy()\n",
    "    pred_mask = pred_mask.squeeze().numpy()\n",
    "    acc = np.sum(groundtruth_mask == pred_mask) / groundtruth_mask.size\n",
    "    return round(acc, 3)\n",
    "\n",
    "def sensitivity_score(groundtruth_mask, pred_mask):\n",
    "    groundtruth_mask = groundtruth_mask.squeeze().numpy()\n",
    "    pred_mask = pred_mask.squeeze().numpy()\n",
    "    tp = np.sum((groundtruth_mask == 1) & (pred_mask == 1))\n",
    "    fn = np.sum((groundtruth_mask == 1) & (pred_mask == 0))\n",
    "    sens = tp / (tp + fn + 1e-6)\n",
    "    return round(sens, 3)\n",
    "\n",
    "def specificity_score(groundtruth_mask, pred_mask):\n",
    "    groundtruth_mask = groundtruth_mask.squeeze().numpy()\n",
    "    pred_mask = pred_mask.squeeze().numpy()\n",
    "    tn = np.sum((groundtruth_mask == 0) & (pred_mask == 0))\n",
    "    fp = np.sum((groundtruth_mask == 0) & (pred_mask == 1))\n",
    "    spec = tn / (tn + fp + 1e-6)\n",
    "    return round(spec, 3)\n",
    "\n",
    "def precision_score(groundtruth_mask, pred_mask):\n",
    "    groundtruth_mask = groundtruth_mask.squeeze().numpy()\n",
    "    pred_mask = pred_mask.squeeze().numpy()\n",
    "    tp = np.sum((groundtruth_mask == 1) & (pred_mask == 1))\n",
    "    fp = np.sum((groundtruth_mask == 0) & (pred_mask == 1))\n",
    "    prec = tp / (tp + fp + 1e-6)\n",
    "    return round(prec, 3)\n",
    "\n",
    "# def hausdorff_distance(groundtruth_mask, pred_mask):\n",
    "#     groundtruth_mask = groundtruth_mask.squeeze().numpy().astype(bool)\n",
    "#     pred_mask = pred_mask.squeeze().numpy().astype(bool)\n",
    "\n",
    "#     gt_coords = np.argwhere(groundtruth_mask)\n",
    "#     pred_coords = np.argwhere(pred_mask)\n",
    "\n",
    "#     if gt_coords.size == 0 or pred_coords.size == 0:\n",
    "#         return np.inf  # Cannot compute HD if one mask is empty\n",
    "\n",
    "#     hd1 = directed_hausdorff(gt_coords, pred_coords)[0]\n",
    "#     hd2 = directed_hausdorff(pred_coords, gt_coords)[0]\n",
    "#     hd = max(hd1, hd2)\n",
    "\n",
    "#     return round(hd, 3)\n",
    "\n"
   ]
  },
  {
   "cell_type": "code",
   "execution_count": 9,
   "id": "d6f56b87-3228-4b24-b77c-46416cf88f2c",
   "metadata": {},
   "outputs": [],
   "source": [
    "_mask_transformer = transforms.Compose([\n",
    "        transforms.PILToTensor(),\n",
    "    ])\n",
    "mask_folder = \"../data/BCSS_small/test/masks/\"\n",
    "def get_masks(image_file, model_name=\"med_sam-vit_b\", mask_folder=mask_folder):\n",
    "    gt_mask_file = os.path.join(mask_folder, image_file)\n",
    "    gt_mask = Image.open(gt_mask_file)\n",
    "    gt_mask = _mask_transformer(gt_mask)\n",
    "\n",
    "    inference_mask_file = os.path.join(\"../data/Results\", model_name, image_file)\n",
    "    pred_mask = Image.open(inference_mask_file)    \n",
    "    pred_mask = _mask_transformer(pred_mask)\n",
    "    return gt_mask, pred_mask"
   ]
  },
  {
   "cell_type": "code",
   "execution_count": 10,
   "id": "9e2b65e9-194a-46aa-8f34-1a8945ec16a9",
   "metadata": {},
   "outputs": [],
   "source": [
    "test_images = [file for file in os.listdir(\"../data/BCSS_small/test/images\") if file.endswith('.png')]\n",
    "models = [\"sam-vit_l\", \"sam-vit_h\", \"med_sam-vit_b\", \"sam-vit_b-lora512\"]\n",
    "benchmark_fn_list = [dice_coef, iou_coef, pixel_accuracy, sensitivity_score, specificity_score, precision_score]\n",
    "# metrics = {\"dice_coef\":[b1,b2,b3,b4],...}\n",
    "metrics = {}\n",
    "for benchmark_fn in benchmark_fn_list:\n",
    "    metric = []\n",
    "    for model in models:\n",
    "        b=[]\n",
    "        for image_file in test_images:\n",
    "            gt_mask, pred = get_masks(image_file, model_name=model)\n",
    "            b.append(benchmark_fn(gt_mask,pred)) \n",
    "        metric.append(np.average(b))\n",
    "    metrics[benchmark_fn.__name__] = metric"
   ]
  },
  {
   "cell_type": "code",
   "execution_count": 11,
   "id": "99126a58-d856-4d61-84e5-1321558ace0f",
   "metadata": {},
   "outputs": [
    {
     "data": {
      "image/png": "[encoded data removed]",
      "text/plain": [
       "<Figure size 2500x1500 with 6 Axes>"
      ]
     },
     "metadata": {},
     "output_type": "display_data"
    }
   ],
   "source": [
    "import matplotlib.pyplot as plt\n",
    "\n",
    "plt.figure(figsize=(25, 15))\n",
    "for i in range(6):\n",
    "    plt.subplot(3, 2, i+1)\n",
    "    name = benchmark_fn_list[i].__name__\n",
    "    # print(name)\n",
    "    metric = metrics[name]\n",
    "    # print(metric)\n",
    "    plt.bar(models, metric)\n",
    "    plt.title(name.upper())\n",
    "    plt.xlabel(\"Model Names\")\n",
    "    plt.ylabel('Value')\n",
    "plt.show()"
   ]
  },
  {
   "cell_type": "code",
   "execution_count": null,
   "id": "6d9538c9-66a7-4993-a13b-315da80118b7",
   "metadata": {},
   "outputs": [],
   "source": []
  }
 ],
 "metadata": {
  "kernelspec": {
   "display_name": "semantic_segmentation",
   "language": "python",
   "name": "semantic_segmentation"
  },
  "language_info": {
   "codemirror_mode": {
    "name": "ipython",
    "version": 3
   },
   "file_extension": ".py",
   "mimetype": "text/x-python",
   "name": "python",
   "nbconvert_exporter": "python",
   "pygments_lexer": "ipython3",
   "version": "3.12.10"
  }
 },
 "nbformat": 4,
 "nbformat_minor": 5
}
